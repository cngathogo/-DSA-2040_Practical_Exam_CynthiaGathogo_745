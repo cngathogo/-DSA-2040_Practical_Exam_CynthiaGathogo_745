{
 "cells": [
  {
   "cell_type": "code",
   "execution_count": 2,
   "id": "7256af35",
   "metadata": {},
   "outputs": [
    {
     "name": "stdout",
     "output_type": "stream",
     "text": [
      "Empty DataFrame\n",
      "Columns: [antecedents, consequents, antecedent support, consequent support, support, confidence, lift, representativity, leverage, conviction, zhangs_metric, jaccard, certainty, kulczynski]\n",
      "Index: []\n"
     ]
    }
   ],
   "source": [
    "import random\n",
    "import pandas as pd\n",
    "from mlxtend.frequent_patterns import apriori, association_rules\n",
    "\n",
    "# Generate synthetic transaction data\n",
    "items = ['milk','bread','beer','diapers','eggs','butter','juice','apples','oranges','chicken',\n",
    "         'rice','pasta','cheese','yogurt','tomatoes','onions','chips','cookies','tea','coffee']\n",
    "\n",
    "transactions = []\n",
    "for _ in range(30):  # 30 transactions\n",
    "    basket = random.sample(items, random.randint(3,8))\n",
    "    transactions.append(basket)\n",
    "\n",
    "# Convert to one-hot encoded DataFrame\n",
    "from mlxtend.preprocessing import TransactionEncoder\n",
    "te = TransactionEncoder()\n",
    "te_ary = te.fit(transactions).transform(transactions)\n",
    "df = pd.DataFrame(te_ary, columns=te.columns_)\n",
    "\n",
    "# Apply Apriori\n",
    "frequent_itemsets = apriori(df, min_support=0.2, use_colnames=True)\n",
    "rules = association_rules(frequent_itemsets, metric=\"confidence\", min_threshold=0.5)\n",
    "rules = rules.sort_values(by='lift', ascending=False)\n",
    "\n",
    "print(rules.head(5))\n"
   ]
  }
 ],
 "metadata": {
  "kernelspec": {
   "display_name": "Python 3",
   "language": "python",
   "name": "python3"
  },
  "language_info": {
   "codemirror_mode": {
    "name": "ipython",
    "version": 3
   },
   "file_extension": ".py",
   "mimetype": "text/x-python",
   "name": "python",
   "nbconvert_exporter": "python",
   "pygments_lexer": "ipython3",
   "version": "3.12.4"
  }
 },
 "nbformat": 4,
 "nbformat_minor": 5
}
